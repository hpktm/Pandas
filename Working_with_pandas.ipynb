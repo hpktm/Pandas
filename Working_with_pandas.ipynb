{
 "cells": [
  {
   "cell_type": "markdown",
   "metadata": {},
   "source": [
    "# Working with pandas"
   ]
  },
  {
   "cell_type": "markdown",
   "metadata": {},
   "source": [
    "## Creating table for random variable using dataframes"
   ]
  },
  {
   "cell_type": "code",
   "execution_count": 1,
   "metadata": {},
   "outputs": [
    {
     "data": {
      "text/html": [
       "<div>\n",
       "<style>\n",
       "    .dataframe thead tr:only-child th {\n",
       "        text-align: right;\n",
       "    }\n",
       "\n",
       "    .dataframe thead th {\n",
       "        text-align: left;\n",
       "    }\n",
       "\n",
       "    .dataframe tbody tr th {\n",
       "        vertical-align: top;\n",
       "    }\n",
       "</style>\n",
       "<table border=\"1\" class=\"dataframe\">\n",
       "  <thead>\n",
       "    <tr style=\"text-align: right;\">\n",
       "      <th></th>\n",
       "      <th>0</th>\n",
       "      <th>1</th>\n",
       "      <th>2</th>\n",
       "    </tr>\n",
       "  </thead>\n",
       "  <tbody>\n",
       "    <tr>\n",
       "      <th>0</th>\n",
       "      <td>0.587227</td>\n",
       "      <td>0.723248</td>\n",
       "      <td>0.217769</td>\n",
       "    </tr>\n",
       "    <tr>\n",
       "      <th>1</th>\n",
       "      <td>0.567211</td>\n",
       "      <td>0.748981</td>\n",
       "      <td>0.253285</td>\n",
       "    </tr>\n",
       "    <tr>\n",
       "      <th>2</th>\n",
       "      <td>0.646504</td>\n",
       "      <td>0.169140</td>\n",
       "      <td>0.459383</td>\n",
       "    </tr>\n",
       "    <tr>\n",
       "      <th>3</th>\n",
       "      <td>0.499545</td>\n",
       "      <td>0.159711</td>\n",
       "      <td>0.685525</td>\n",
       "    </tr>\n",
       "  </tbody>\n",
       "</table>\n",
       "</div>"
      ],
      "text/plain": [
       "          0         1         2\n",
       "0  0.587227  0.723248  0.217769\n",
       "1  0.567211  0.748981  0.253285\n",
       "2  0.646504  0.169140  0.459383\n",
       "3  0.499545  0.159711  0.685525"
      ]
     },
     "execution_count": 1,
     "metadata": {},
     "output_type": "execute_result"
    }
   ],
   "source": [
    "#for creating random numbers as dataframe\n",
    "import pandas as pd\n",
    "import numpy as np\n",
    "df = pd.DataFrame(np.random.rand(4,3))\n",
    "df"
   ]
  },
  {
   "cell_type": "code",
   "execution_count": 2,
   "metadata": {},
   "outputs": [
    {
     "data": {
      "text/plain": [
       "0    3\n",
       "1    5\n",
       "2    6\n",
       "3    3\n",
       "dtype: int64"
      ]
     },
     "execution_count": 2,
     "metadata": {},
     "output_type": "execute_result"
    }
   ],
   "source": [
    "#for creatin series in pandas\n",
    "import pandas as pd\n",
    "x = pd.Series([3,5,6,3]) \n",
    "x"
   ]
  },
  saurav
  {
   "cell_type": "markdown",
   "metadata": {},
   "source": [
    "# Importing csv file"
   ]
  },
  {
   "cell_type": "code",
   "execution_count": 3,
   "metadata": {},
   "outputs": [
    {
     "data": {
      "text/html": [
       "<div>\n",
       "<style>\n",
       "    .dataframe thead tr:only-child th {\n",
       "        text-align: right;\n",
       "    }\n",
       "\n",
       "    .dataframe thead th {\n",
       "        text-align: left;\n",
       "    }\n",
       "\n",
       "    .dataframe tbody tr th {\n",
       "        vertical-align: top;\n",
       "    }\n",
       "</style>\n",
       "<table border=\"1\" class=\"dataframe\">\n",
       "  <thead>\n",
       "    <tr style=\"text-align: right;\">\n",
       "      <th></th>\n",
       "      <th>Loan_Id</th>\n",
       "      <th>Gender</th>\n",
       "      <th>M_status</th>\n",
       "      <th>Graduate</th>\n",
       "      <th>Self_emp</th>\n",
       "      <th>Income</th>\n",
       "      <th>Loan_amt</th>\n",
       "      <th>L_amt_term</th>\n",
       "    </tr>\n",
       "  </thead>\n",
       "  <tbody>\n",
       "    <tr>\n",
       "      <th>0</th>\n",
       "      <td>L10A</td>\n",
       "      <td>Male</td>\n",
       "      <td>Single</td>\n",
       "      <td>Yes</td>\n",
       "      <td>No</td>\n",
       "      <td>50000</td>\n",
       "      <td>65895.54</td>\n",
       "      <td>360</td>\n",
       "    </tr>\n",
       "    <tr>\n",
       "      <th>1</th>\n",
       "      <td>L20B</td>\n",
       "      <td>Female</td>\n",
       "      <td>Married</td>\n",
       "      <td>Yes</td>\n",
       "      <td>No</td>\n",
       "      <td>10000</td>\n",
       "      <td>76214.30</td>\n",
       "      <td>360</td>\n",
       "    </tr>\n",
       "    <tr>\n",
       "      <th>2</th>\n",
       "      <td>L12F</td>\n",
       "      <td>Male</td>\n",
       "      <td>Single</td>\n",
       "      <td>No</td>\n",
       "      <td>No</td>\n",
       "      <td>15000</td>\n",
       "      <td>89561.20</td>\n",
       "      <td>360</td>\n",
       "    </tr>\n",
       "    <tr>\n",
       "      <th>3</th>\n",
       "      <td>L34G</td>\n",
       "      <td>Male</td>\n",
       "      <td>Single</td>\n",
       "      <td>Yes</td>\n",
       "      <td>Yes</td>\n",
       "      <td>80000</td>\n",
       "      <td>98846.20</td>\n",
       "      <td>360</td>\n",
       "    </tr>\n",
       "    <tr>\n",
       "      <th>4</th>\n",
       "      <td>L10F3</td>\n",
       "      <td>Female</td>\n",
       "      <td>Married</td>\n",
       "      <td>Yes</td>\n",
       "      <td>No</td>\n",
       "      <td>9568</td>\n",
       "      <td>56982.35</td>\n",
       "      <td>360</td>\n",
       "    </tr>\n",
       "  </tbody>\n",
       "</table>\n",
       "</div>"
      ],
      "text/plain": [
       "  Loan_Id  Gender M_status Graduate Self_emp  Income  Loan_amt  L_amt_term\n",
       "0    L10A    Male   Single      Yes       No   50000  65895.54         360\n",
       "1    L20B  Female  Married      Yes       No   10000  76214.30         360\n",
       "2    L12F    Male   Single       No       No   15000  89561.20         360\n",
       "3    L34G    Male   Single      Yes      Yes   80000  98846.20         360\n",
       "4   L10F3  Female  Married      Yes       No    9568  56982.35         360"
      ]
     },
     "execution_count": 3,
     "metadata": {},
     "output_type": "execute_result"
    }
   ],
   "source": [
    "import pandas as pd\n",
    "import numpy as np\n",
    "import matplotlib as plt\n",
    "%matplotlib inline\n",
    "\n",
    "df = pd.read_csv(\"D:\\data\\loann.csv\")\n",
    "df"
   ]
  },
  {
   "cell_type": "code",
   "execution_count": 4,
   "metadata": {},
   "outputs": [
    {
     "data": {
      "text/html": [
       "<div>\n",
       "<style>\n",
       "    .dataframe thead tr:only-child th {\n",
       "        text-align: right;\n",
       "    }\n",
       "\n",
       "    .dataframe thead th {\n",
       "        text-align: left;\n",
       "    }\n",
       "\n",
       "    .dataframe tbody tr th {\n",
       "        vertical-align: top;\n",
       "    }\n",
       "</style>\n",
       "<table border=\"1\" class=\"dataframe\">\n",
       "  <thead>\n",
       "    <tr style=\"text-align: right;\">\n",
       "      <th></th>\n",
       "      <th>Income</th>\n",
       "      <th>Loan_amt</th>\n",
       "      <th>L_amt_term</th>\n",
       "    </tr>\n",
       "  </thead>\n",
       "  <tbody>\n",
       "    <tr>\n",
       "      <th>count</th>\n",
       "      <td>5.000000</td>\n",
       "      <td>5.000000</td>\n",
       "      <td>5.0</td>\n",
       "    </tr>\n",
       "    <tr>\n",
       "      <th>mean</th>\n",
       "      <td>32913.600000</td>\n",
       "      <td>77499.918000</td>\n",
       "      <td>360.0</td>\n",
       "    </tr>\n",
       "    <tr>\n",
       "      <th>std</th>\n",
       "      <td>31225.075257</td>\n",
       "      <td>17017.808891</td>\n",
       "      <td>0.0</td>\n",
       "    </tr>\n",
       "    <tr>\n",
       "      <th>min</th>\n",
       "      <td>9568.000000</td>\n",
       "      <td>56982.350000</td>\n",
       "      <td>360.0</td>\n",
       "    </tr>\n",
       "    <tr>\n",
       "      <th>25%</th>\n",
       "      <td>10000.000000</td>\n",
       "      <td>65895.540000</td>\n",
       "      <td>360.0</td>\n",
       "    </tr>\n",
       "    <tr>\n",
       "      <th>50%</th>\n",
       "      <td>15000.000000</td>\n",
       "      <td>76214.300000</td>\n",
       "      <td>360.0</td>\n",
       "    </tr>\n",
       "    <tr>\n",
       "      <th>75%</th>\n",
       "      <td>50000.000000</td>\n",
       "      <td>89561.200000</td>\n",
       "      <td>360.0</td>\n",
       "    </tr>\n",
       "    <tr>\n",
       "      <th>max</th>\n",
       "      <td>80000.000000</td>\n",
       "      <td>98846.200000</td>\n",
       "      <td>360.0</td>\n",
       "    </tr>\n",
       "  </tbody>\n",
       "</table>\n",
       "</div>"
      ],
      "text/plain": [
       "             Income      Loan_amt  L_amt_term\n",
       "count      5.000000      5.000000         5.0\n",
       "mean   32913.600000  77499.918000       360.0\n",
       "std    31225.075257  17017.808891         0.0\n",
       "min     9568.000000  56982.350000       360.0\n",
       "25%    10000.000000  65895.540000       360.0\n",
       "50%    15000.000000  76214.300000       360.0\n",
       "75%    50000.000000  89561.200000       360.0\n",
       "max    80000.000000  98846.200000       360.0"
      ]
     },
     "execution_count": 4,
     "metadata": {},
     "output_type": "execute_result"
    }
   ],
   "source": [
    "df.describe()"
   ]
  },
  {
   "cell_type": "markdown",
   "metadata": {},
   "source": [
    "# Ploting graph for data using Matplotlib"
   ]
  },
  {
   "cell_type": "code",
   "execution_count": 5,
   "metadata": {},
   "outputs": [
    {
     "data": {
      "text/plain": [
       "<matplotlib.axes._subplots.AxesSubplot at 0x1adc42c5518>"
      ]
     },
     "execution_count": 5,
     "metadata": {},
     "output_type": "execute_result"
    },
    {
     "data": {
      "image/png": "iVBORw0KGgoAAAANSUhEUgAAAYAAAAD8CAYAAAB+UHOxAAAABHNCSVQICAgIfAhkiAAAAAlwSFlz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\nhTIAJKlQBoAkFcoAkKRC/T8XpTh9geYQGAAAAABJRU5ErkJggg==\n",
      "text/plain": [
       "<matplotlib.figure.Figure at 0x1adc42c5b70>"
      ]
     },
     "metadata": {},
     "output_type": "display_data"
    }
   ],
   "source": [
    "df['Loan_amt'].hist(bins=50)"
   ]
  },
  {
   "cell_type": "code",
   "execution_count": 6,
   "metadata": {},
   "outputs": [
    {
     "data": {
      "text/plain": [
       "Loan_Id       0\n",
       "Gender        0\n",
       "M_status      0\n",
       "Graduate      0\n",
       "Self_emp      0\n",
       "Income        0\n",
       "Loan_amt      0\n",
       "L_amt_term    0\n",
       "dtype: int64"
      ]
     },
     "execution_count": 6,
     "metadata": {},
     "output_type": "execute_result"
    }
   ],
   "source": [
    "df.apply(lambda x : sum(x.isnull()),axis=0)"
   ]
  },
  {
   "cell_type": "code",
   "execution_count": null,
   "metadata": {
    "collapsed": true
   },
   "outputs": [],
   "source": []
  },
  {
   "cell_type": "code",
   "execution_count": 8,
   "metadata": {},
   "outputs": [
    {
     "name": "stdout",
     "output_type": "stream",
     "text": [
      "comp,name,revene,price,eps\n",
      "google,nadela,87,476,12.78\n",
      "fb,berg,66,na,9\n",
      "reliance,ambani,1023,1233,-1\n",
      "tata,ratan,-1,10,na\n",
      "\n"
     ]
    }
   ],
   "source": [
    "import csv\n",
    "#import pandas as pd\n",
    "path = \"D:\\data\\stock_data.csv\"\n",
    "file = open(path).read()\n",
    "print(file)"
   ]
  },
  {
   "cell_type": "code",
   "execution_count": 9,
   "metadata": {},
   "outputs": [
    {
     "data": {
      "text/plain": [
       "['reliance', 'ambani', '1023', '1233', '-1']"
      ]
     },
     "execution_count": 9,
     "metadata": {},
     "output_type": "execute_result"
    }
   ],
   "source": [
    "import csv\n",
    "path = 'D:\\data\\stock_data.csv'\n",
    "lines = [line for line in open(path)]\n",
    "\n",
    "lines[0]\n",
    "lines[1]\n",
    "\n",
    "lines[0].strip().split(',')\n",
    "dataset = [line.strip().split(',') for line in open(path)]\n",
    "dataset[3]"
   ]
  },
  {
   "cell_type": "code",
   "execution_count": 10,
   "metadata": {},
   "outputs": [
    {
     "name": "stdout",
     "output_type": "stream",
     "text": [
      "['comp', 'name', 'revene', 'price', 'eps']\n",
      "['google', 'nadela', '87', '476', '12.78']\n"
     ]
    }
   ],
   "source": [
    "import csv\n",
    "path = \"D:\\data\\stock_data.csv\"\n",
    "file = open(path)\n",
    "reader=csv.reader(file)\n",
    "\n",
    "header = next(reader)\n",
    "data = [row for row in reader]\n",
    "\n",
    "print(header)\n",
    "print(data[0])\n"
   ]
  },
  {
   "cell_type": "code",
   "execution_count": null,
   "metadata": {},
   "outputs": [],
   "source": [
    "#importing csv in a readable formate\n",
    "import pandas as pd\n",
    "import csv\n",
    "#df for dataframes\n",
    "df = pd.read_csv(\"D:\\data\\google_stock_data.csv\")\n",
    "#df or df[:] this will print all the rows\n",
    "df\n",
    "#df.head for printing few rows among bunch of data or we can alse give parameters for no of rows we want to print\n",
    "df.head().Open\n",
    "#df.tail for last 5 rows from the file\n",
    "df.tail()\n",
    "#slicing\n",
    "df[2:5]\n",
    "\n"
   ]
  },
  {
   "cell_type": "code",
   "execution_count": 13,
   "metadata": {},
   "outputs": [
    {
     "data": {
      "text/html": [
       "<div>\n",
       "<style>\n",
       "    .dataframe thead tr:only-child th {\n",
       "        text-align: right;\n",
       "    }\n",
       "\n",
       "    .dataframe thead th {\n",
       "        text-align: left;\n",
       "    }\n",
       "\n",
       "    .dataframe tbody tr th {\n",
       "        vertical-align: top;\n",
       "    }\n",
       "</style>\n",
       "<table border=\"1\" class=\"dataframe\">\n",
       "  <thead>\n",
       "    <tr style=\"text-align: right;\">\n",
       "      <th></th>\n",
       "      <th>Age</th>\n",
       "      <th>Branch</th>\n",
       "      <th>Name</th>\n",
       "      <th>Roll_no</th>\n",
       "    </tr>\n",
       "  </thead>\n",
       "  <tbody>\n",
       "    <tr>\n",
       "      <th>0</th>\n",
       "      <td>21</td>\n",
       "      <td>CSE</td>\n",
       "      <td>Gaurav</td>\n",
       "      <td>28</td>\n",
       "    </tr>\n",
       "    <tr>\n",
       "      <th>1</th>\n",
       "      <td>21</td>\n",
       "      <td>CSE</td>\n",
       "      <td>Apoorav</td>\n",
       "      <td>13</td>\n",
       "    </tr>\n",
       "    <tr>\n",
       "      <th>2</th>\n",
       "      <td>21</td>\n",
       "      <td>CSE</td>\n",
       "      <td>Sameer</td>\n",
       "      <td>57</td>\n",
       "    </tr>\n",
       "    <tr>\n",
       "      <th>3</th>\n",
       "      <td>22</td>\n",
       "      <td>CSE</td>\n",
       "      <td>Avinash</td>\n",
       "      <td>21</td>\n",
       "    </tr>\n",
       "    <tr>\n",
       "      <th>4</th>\n",
       "      <td>22</td>\n",
       "      <td>CSE</td>\n",
       "      <td>Nishant</td>\n",
       "      <td>49</td>\n",
       "    </tr>\n",
       "  </tbody>\n",
       "</table>\n",
       "</div>"
      ],
      "text/plain": [
       "   Age Branch     Name  Roll_no\n",
       "0   21    CSE   Gaurav       28\n",
       "1   21    CSE  Apoorav       13\n",
       "2   21    CSE   Sameer       57\n",
       "3   22    CSE  Avinash       21\n",
       "4   22    CSE  Nishant       49"
      ]
     },
     "execution_count": 13,
     "metadata": {},
     "output_type": "execute_result"
    }
   ],
   "source": [
    "#Data showing through dict.\n",
    "import pandas as pd\n",
    "student_data = {\n",
    "    'Name' : ['Gaurav','Apoorav','Sameer','Avinash','Nishant'],\n",
    "    'Roll_no' : [28,13,57,21,49],\n",
    "    'Branch' : ['CSE','CSE','CSE','CSE','CSE'],\n",
    "    'Age' : [21,21,21,22,22]\n",
    "}\n",
    "df = pd.DataFrame(student_data)\n",
    "df"
   ]
  },
  {
   "cell_type": "code",
   "execution_count": 14,
   "metadata": {},
   "outputs": [
    {
     "data": {
      "text/plain": [
       "(5, 4)"
      ]
     },
     "execution_count": 14,
     "metadata": {},
     "output_type": "execute_result"
    }
   ],
   "source": [
    "df.shape\n"
   ]
  },
  {
   "cell_type": "code",
   "execution_count": 20,
   "metadata": {},
   "outputs": [
    {
     "data": {
      "text/html": [
       "<div>\n",
       "<style>\n",
       "    .dataframe thead tr:only-child th {\n",
       "        text-align: right;\n",
       "    }\n",
       "\n",
       "    .dataframe thead th {\n",
       "        text-align: left;\n",
       "    }\n",
       "\n",
       "    .dataframe tbody tr th {\n",
       "        vertical-align: top;\n",
       "    }\n",
       "</style>\n",
       "<table border=\"1\" class=\"dataframe\">\n",
       "  <thead>\n",
       "    <tr style=\"text-align: right;\">\n",
       "      <th></th>\n",
       "      <th>Age</th>\n",
       "      <th>Branch</th>\n",
       "      <th>Name</th>\n",
       "      <th>Roll_no</th>\n",
       "    </tr>\n",
       "  </thead>\n",
       "  <tbody>\n",
       "    <tr>\n",
       "      <th>0</th>\n",
       "      <td>21</td>\n",
       "      <td>CSE</td>\n",
       "      <td>Gaurav</td>\n",
       "      <td>28</td>\n",
       "    </tr>\n",
       "    <tr>\n",
       "      <th>1</th>\n",
       "      <td>21</td>\n",
       "      <td>CSE</td>\n",
       "      <td>Apoorav</td>\n",
       "      <td>13</td>\n",
       "    </tr>\n",
       "    <tr>\n",
       "      <th>2</th>\n",
       "      <td>21</td>\n",
       "      <td>CSE</td>\n",
       "      <td>Sameer</td>\n",
       "      <td>57</td>\n",
       "    </tr>\n",
       "    <tr>\n",
       "      <th>3</th>\n",
       "      <td>22</td>\n",
       "      <td>CSE</td>\n",
       "      <td>Avinash</td>\n",
       "      <td>21</td>\n",
       "    </tr>\n",
       "    <tr>\n",
       "      <th>4</th>\n",
       "      <td>22</td>\n",
       "      <td>CSE</td>\n",
       "      <td>Nishant</td>\n",
       "      <td>49</td>\n",
       "    </tr>\n",
       "  </tbody>\n",
       "</table>\n",
       "</div>"
      ],
      "text/plain": [
       "   Age Branch     Name  Roll_no\n",
       "0   21    CSE   Gaurav       28\n",
       "1   21    CSE  Apoorav       13\n",
       "2   21    CSE   Sameer       57\n",
       "3   22    CSE  Avinash       21\n",
       "4   22    CSE  Nishant       49"
      ]
     },
     "execution_count": 20,
     "metadata": {},
     "output_type": "execute_result"
    }
   ],
   "source": [
    "#for printind Open column of starting rows\n",
    "df.head()"
   ]
  },
  {
   "cell_type": "code",
   "execution_count": 22,
   "metadata": {},
   "outputs": [
    {
     "data": {
      "text/html": [
       "<div>\n",
       "<style>\n",
       "    .dataframe thead tr:only-child th {\n",
       "        text-align: right;\n",
       "    }\n",
       "\n",
       "    .dataframe thead th {\n",
       "        text-align: left;\n",
       "    }\n",
       "\n",
       "    .dataframe tbody tr th {\n",
       "        vertical-align: top;\n",
       "    }\n",
       "</style>\n",
       "<table border=\"1\" class=\"dataframe\">\n",
       "  <thead>\n",
       "    <tr style=\"text-align: right;\">\n",
       "      <th></th>\n",
       "      <th>Branch</th>\n",
       "      <th>Name</th>\n",
       "    </tr>\n",
       "  </thead>\n",
       "  <tbody>\n",
       "    <tr>\n",
       "      <th>0</th>\n",
       "      <td>CSE</td>\n",
       "      <td>Gaurav</td>\n",
       "    </tr>\n",
       "    <tr>\n",
       "      <th>1</th>\n",
       "      <td>CSE</td>\n",
       "      <td>Apoorav</td>\n",
       "    </tr>\n",
       "    <tr>\n",
       "      <th>2</th>\n",
       "      <td>CSE</td>\n",
       "      <td>Sameer</td>\n",
       "    </tr>\n",
       "    <tr>\n",
       "      <th>3</th>\n",
       "      <td>CSE</td>\n",
       "      <td>Avinash</td>\n",
       "    </tr>\n",
       "    <tr>\n",
       "      <th>4</th>\n",
       "      <td>CSE</td>\n",
       "      <td>Nishant</td>\n",
       "    </tr>\n",
       "  </tbody>\n",
       "</table>\n",
       "</div>"
      ],
      "text/plain": [
       "  Branch     Name\n",
       "0    CSE   Gaurav\n",
       "1    CSE  Apoorav\n",
       "2    CSE   Sameer\n",
       "3    CSE  Avinash\n",
       "4    CSE  Nishant"
      ]
     },
     "execution_count": 22,
     "metadata": {},
     "output_type": "execute_result"
    }
   ],
   "source": [
    "#for perticular columns\n",
    "df[['Branch','Name']]"
   ]
  },
  {
   "cell_type": "code",
   "execution_count": 23,
   "metadata": {},
   "outputs": [
    {
     "data": {
      "text/plain": [
       "33.6"
      ]
     },
     "execution_count": 23,
     "metadata": {},
     "output_type": "execute_result"
    }
   ],
   "source": [
    "#for max , min or average value among your data set resp.\n",
    "df['Roll_no'].max()\n",
    "df['Roll_no'].min()\n",
    "df['Roll_no'].mean()"
   ]
  },
  {
   "cell_type": "code",
   "execution_count": 24,
   "metadata": {},
   "outputs": [
    {
     "data": {
      "text/plain": [
       "RangeIndex(start=0, stop=5, step=1)"
      ]
     },
     "execution_count": 24,
     "metadata": {},
     "output_type": "execute_result"
    }
   ],
   "source": [
    "#for statistics of our data set\n",
    "df.describe()\n",
    "df.index\n"
   ]
  },
  {
   "cell_type": "code",
   "execution_count": null,
   "metadata": {
    "collapsed": true
   },
   "outputs": [],
   "source": []
  }
 ],
 "metadata": {
  "kernelspec": {
   "display_name": "Python 3",
   "language": "python",
   "name": "python3"
  },
  "language_info": {
   "codemirror_mode": {
    "name": "ipython",
    "version": 3
   },
   "file_extension": ".py",
   "mimetype": "text/x-python",
   "name": "python",
   "nbconvert_exporter": "python",
   "pygments_lexer": "ipython3",
   "version": "3.6.3"
  }
 },
 "nbformat": 4,
 "nbformat_minor": 2
}
